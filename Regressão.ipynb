{
  "nbformat": 4,
  "nbformat_minor": 0,
  "metadata": {
    "colab": {
      "provenance": [],
      "authorship_tag": "ABX9TyPVUDTJAk47cwTAv+EhFsLc",
      "include_colab_link": true
    },
    "kernelspec": {
      "name": "python3",
      "display_name": "Python 3"
    },
    "language_info": {
      "name": "python"
    }
  },
  "cells": [
    {
      "cell_type": "markdown",
      "metadata": {
        "id": "view-in-github",
        "colab_type": "text"
      },
      "source": [
        "<a href=\"https://colab.research.google.com/github/ThallesLima3301/intelig-ncia-artificial/blob/main/Regress%C3%A3o.ipynb\" target=\"_parent\"><img src=\"https://colab.research.google.com/assets/colab-badge.svg\" alt=\"Open In Colab\"/></a>"
      ]
    },
    {
      "cell_type": "code",
      "execution_count": null,
      "metadata": {
        "id": "yu8FhBA5DjUk"
      },
      "outputs": [],
      "source": [
        "import pandas as pd #importando bibliotecas\n",
        "from sklearn.linear_model import LinearRegression\n",
        "from sklearn.model_selection import train_test_split\n",
        "from sklearn.metrics import mean_absolute_error, mean_squared_error, r2_score\n",
        "import matplotlib.pyplot as plt\n",
        "import numpy as np\n",
        "data = pd.read_csv(\"data.csv\") #lendo o arquivo da base de dados\n",
        "data=data[data[\"price\"]<=9000000] #filtrando outliers, cujo preço é maior que 9 milhoes\n",
        "preco = data.price  #definindo o target de previsão\n",
        "input = data.drop([\"date\",\"price\",\"street\",\"city\",\"statezip\",\"country\"],axis=1)  #removendo variáveis não numéricas\n",
        "X_train, X_test, y_train, y_test = train_test_split(input, preco, test_size=0.3, random_state=125) #separando teste e treino, \n",
        "#usando 30% da base para teste e 70% para treino\n",
        "model = LinearRegression() #iniciando o objeto do modelo de LinearRegression\n",
        "model.fit(X_train, y_train) #aplicando o modelo aos dados\n",
        "y_predicted = model.predict(X_test)#prevendo os dados de teste com o modelo treinado\n",
        "MAE = mean_absolute_error(y_predicted,y_test)#Erro médio absoluto\n",
        "MSE = mean_squared_error(y_predicted,y_test) #Erro Quadrático Médio\n",
        "MRSE = mean_squared_error(y_predicted,y_test, squared = False) #Raiz do Erro Quadrático Médio\n",
        "print(\"Coeficientes: \\n\", model.coef_)#Printando os erros\n",
        "print(f'MAE: {MAE}\\nMSE: {MSE}\\nMRSE: {MRSE}\\n') #Mostrar os erros médios absolutos\n",
        "print(f\"RÂ²: {round(r2_score(y_test, y_predicted),2)}\") #Qui quadrado para verificar a adequação do modelo (quanto mais próximo de 1, melhor)\n",
        "# Plotando o gráfico do previsto vs real, para comparar visualmente os resultados. Quanto mais próximo de uma reta x=y esse\n",
        "# gráfico for, mais acurada é a previsão\n",
        "plt.figure(figsize=(10,10)) \n",
        "plt.scatter(y_test, y_predicted, c='blue') #cor das bola\n",
        "plt.xlabel('Valores reais', fontsize=15)\n",
        "plt.ylabel('Previsao', fontsize=15)\n",
        "plt.show()\n"
      ]
    }
  ]
}